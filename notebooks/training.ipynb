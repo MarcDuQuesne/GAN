    #Loading the data
    (X_train, y_train, X_test, y_test) = load_data(from_MNIST = False)
    batch_count = X_train.shape[0] / batch_size